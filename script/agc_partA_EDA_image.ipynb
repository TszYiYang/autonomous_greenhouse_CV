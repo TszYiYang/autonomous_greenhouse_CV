{
 "cells": [
  {
   "cell_type": "code",
   "execution_count": 1,
   "metadata": {},
   "outputs": [],
   "source": [
    "import cv2\n",
    "import numpy as np\n",
    "import matplotlib.pyplot as plt\n",
    "from PIL import Image"
   ]
  },
  {
   "cell_type": "code",
   "execution_count": 2,
   "metadata": {},
   "outputs": [],
   "source": [
    "# Load images\n",
    "rgb_path = \"../data/train/rgb/B_25f56695.png\"\n",
    "depth_path = \"../data/train/depth/B_25f56695_depth.png\"\n",
    "#rgb_image = Image.open(\"../data/train/rgb/B_25f56695.png\").convert(\"RGB\")\n",
    "#depth_image = Image.open(\"../data/train/depth/B_25f56695_depth.png\").convert(\"L\")"
   ]
  },
  {
   "cell_type": "code",
   "execution_count": 3,
   "metadata": {},
   "outputs": [],
   "source": [
    "# Load images using cv2\n",
    "#rgb_image = cv2.imread(rgb_path, cv2.COLOR_BGR2RGB)\n",
    "#depth_image = cv2.imread(depth_path)"
   ]
  },
  {
   "cell_type": "code",
   "execution_count": 3,
   "metadata": {},
   "outputs": [],
   "source": [
    "# load images using Image\n",
    "rgb_image = Image.open(rgb_path).convert(\"RGB\")\n",
    "depth_image = Image.open(depth_path).convert(\"L\")"
   ]
  },
  {
   "cell_type": "code",
   "execution_count": 4,
   "metadata": {},
   "outputs": [],
   "source": [
    "rgb_image = np.array(rgb_image)\n",
    "depth_image = np.array(depth_image)"
   ]
  },
  {
   "cell_type": "code",
   "execution_count": null,
   "metadata": {},
   "outputs": [],
   "source": [
    "# Check if images are loaded correctly\n",
    "if rgb_image is None or depth_image is None:\n",
    "    print(\"Error loading images\")\n",
    "    exit()"
   ]
  },
  {
   "cell_type": "code",
   "execution_count": null,
   "metadata": {},
   "outputs": [],
   "source": [
    "print(rgb_image.shape, depth_image.shape)\n",
    "\n",
    "# Split the RGB image into its channels\n",
    "b_channel, g_channel, r_channel = cv2.split(rgb_image)\n",
    "\n",
    "# Split the depth image into its channels\n",
    "xx_channel, yy_channel, zz_channel = cv2.split(depth_image)\n",
    "\n",
    "\n",
    "# Display the individual channels using OpenCV\n",
    "plt.figure(figsize=(15, 10))\n",
    "\n",
    "plt.subplot(3, 2, 1)\n",
    "plt.imshow(r_channel, cmap=\"Reds\")\n",
    "plt.title(\"Red Channel (OpenCV)\")\n",
    "\n",
    "plt.subplot(3, 2, 2)\n",
    "plt.imshow(g_channel, cmap=\"Greens\")\n",
    "plt.title(\"Green Channel (OpenCV)\")\n",
    "\n",
    "plt.subplot(3, 2, 3)\n",
    "plt.imshow(b_channel, cmap=\"Blues\")\n",
    "plt.title(\"Blue Channel (OpenCV)\")\n",
    "\n",
    "plt.subplot(3, 2, 4)\n",
    "plt.imshow(xx_channel, cmap=\"gray\")\n",
    "plt.title(\"Depth x Channel (OpenCV)\")\n",
    "\n",
    "plt.subplot(3, 2, 5)\n",
    "plt.imshow(yy_channel, cmap=\"gray\")\n",
    "plt.title(\"Depth y Channel (OpenCV)\")\n",
    "\n",
    "plt.subplot(3, 2, 6)\n",
    "plt.imshow(zz_channel, cmap=\"gray\")\n",
    "plt.title(\"Depth z Channel (OpenCV)\")\n",
    "\n",
    "plt.tight_layout()\n",
    "plt.show()"
   ]
  },
  {
   "cell_type": "code",
   "execution_count": null,
   "metadata": {},
   "outputs": [],
   "source": [
    "# Compare the depth channels\n",
    "channels_equal = (\n",
    "    np.array_equal(xx_channel, yy_channel)\n",
    "    and np.array_equal(yy_channel, zz_channel)\n",
    "    and np.array_equal(xx_channel, zz_channel)\n",
    ")\n",
    "\n",
    "# Print the comparison result\n",
    "print(f\"Are all depth channels equal? {channels_equal}\")"
   ]
  },
  {
   "cell_type": "code",
   "execution_count": null,
   "metadata": {},
   "outputs": [],
   "source": [
    "# Convert depth image to single channel\n",
    "depth_array_single_channel = depth_image[\n",
    "    :, :, 0\n",
    "]  # Assuming depth info is in the first channel\n",
    "\n",
    "# Normalize the depth image to range [0, 255] for better visualization\n",
    "depth_array_normalized = (\n",
    "    depth_array_single_channel / depth_array_single_channel.max() * 255\n",
    ").astype(np.uint8)\n",
    "\n",
    "# Convert normalized depth image to 3 channels\n",
    "depth_array_rgb = np.stack((depth_array_normalized,) * 3, axis=-1)\n",
    "\n",
    "# Overlay depth image on RGB image with some transparency for better visualization\n",
    "overlay_image = rgb_image[:, :, :3].copy()  # Use only the RGB channels\n",
    "alpha = 0.2\n",
    "overlay_image = (alpha * overlay_image + (1 - alpha) * depth_array_rgb).astype(np.uint8)\n",
    "\n",
    "# Display the overlay\n",
    "plt.figure(figsize=(10, 10))\n",
    "plt.imshow(overlay_image)\n",
    "plt.title(\"Overlay of Depth Image on RGB Image\")\n",
    "plt.axis(\"off\")\n",
    "plt.show()"
   ]
  },
  {
   "cell_type": "code",
   "execution_count": null,
   "metadata": {},
   "outputs": [],
   "source": [
    "# Concatenate the depth channel with the RGB channels to create a 4-channel image\n",
    "# We'll use the normalized depth channel\n",
    "depth_channel = depth_array_normalized[\n",
    "    :, :, np.newaxis\n",
    "]  # Add a new axis to match the RGB channels\n",
    "\n",
    "# Concatenate along the last axis\n",
    "rgb_d_image = np.concatenate((rgb_image[:, :, :3], depth_channel), axis=-1)\n",
    "\n",
    "\n",
    "# Save the visualized result\n",
    "output_image_path = \"../results/B_25f56695_rgbd_output.png\"\n",
    "cv2.imwrite(output_image_path, rgb_d_image)\n",
    "\n",
    "# Display the shape of the resulting 4-channel image\n",
    "rgb_d_image.shape"
   ]
  },
  {
   "cell_type": "code",
   "execution_count": null,
   "metadata": {},
   "outputs": [],
   "source": [
    "# Extract individual channels from the synthetic RGB+D image\n",
    "r_channel = rgb_d_image[:, :, 0]\n",
    "g_channel = rgb_d_image[:, :, 1]\n",
    "b_channel = rgb_d_image[:, :, 2]\n",
    "d_channel = rgb_d_image[:, :, 3]\n",
    "\n",
    "# Display the individual channels\n",
    "plt.figure(figsize=(15, 10))\n",
    "\n",
    "plt.subplot(2, 2, 1)\n",
    "plt.imshow(r_channel, cmap=\"Reds\")\n",
    "plt.title(\"Red Channel\")\n",
    "\n",
    "plt.subplot(2, 2, 2)\n",
    "plt.imshow(g_channel, cmap=\"Greens\")\n",
    "plt.title(\"Green Channel\")\n",
    "\n",
    "plt.subplot(2, 2, 3)\n",
    "plt.imshow(b_channel, cmap=\"Blues\")\n",
    "plt.title(\"Blue Channel\")\n",
    "\n",
    "plt.subplot(2, 2, 4)\n",
    "plt.imshow(d_channel, cmap=\"gray\")\n",
    "plt.title(\"Depth Channel\")\n",
    "\n",
    "plt.tight_layout()\n",
    "plt.show()"
   ]
  },
  {
   "cell_type": "code",
   "execution_count": null,
   "metadata": {},
   "outputs": [],
   "source": []
  }
 ],
 "metadata": {
  "kernelspec": {
   "display_name": "agc",
   "language": "python",
   "name": "python3"
  },
  "language_info": {
   "codemirror_mode": {
    "name": "ipython",
    "version": 3
   },
   "file_extension": ".py",
   "mimetype": "text/x-python",
   "name": "python",
   "nbconvert_exporter": "python",
   "pygments_lexer": "ipython3",
   "version": "3.10.14"
  }
 },
 "nbformat": 4,
 "nbformat_minor": 2
}
