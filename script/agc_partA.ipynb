{
 "cells": [
  {
   "cell_type": "code",
   "execution_count": 3,
   "metadata": {},
   "outputs": [],
   "source": [
    "from pathlib import Path\n",
    "import torch\n",
    "from torchvision.models.segmentation import deeplabv3_resnet101\n",
    "from PIL import Image\n",
    "import torchvision.transforms as T"
   ]
  },
  {
   "cell_type": "code",
   "execution_count": 4,
   "metadata": {},
   "outputs": [],
   "source": [
    "# point to the data dir\n",
    "current_folder = Path(\".\").resolve()\n",
    "base_dir = current_folder / \"dataset/4th_dwarf_tomato/image\""
   ]
  },
  {
   "cell_type": "code",
   "execution_count": 5,
   "metadata": {},
   "outputs": [],
   "source": [
    "# point to the image files\n",
    "image = \"B_0328ab97\"\n",
    "\n",
    "# Construct the file paths for reading RGB/Depth images\n",
    "rgb_file = base_dir / \"rgb\" / f\"{image}.png\"\n",
    "depth_file = base_dir / \"depth\" / f\"{image}_depth.png\"\n",
    "\n",
    "# Construct the file paths for saving segemented RGB and filtered Depth images\n",
    "segmented_file = base_dir / \"segmented_rgb\" / f\"{image}_segmented.png\"\n",
    "filtered_depth_file = base_dir / \"masked_depth\" / f\"{image}_filtered.png\""
   ]
  },
  {
   "cell_type": "code",
   "execution_count": 7,
   "metadata": {},
   "outputs": [],
   "source": [
    "# Load your images\n",
    "rgb_image = Image.open(rgb_file)\n",
    "depth_image = Image.open(depth_file)\n",
    "\n",
    "# Define the transformation\n",
    "transform = T.Compose(\n",
    "    [\n",
    "        T.Resize(\n",
    "            (520, 520)\n",
    "        ),  # Resize the image to the input size required by the model\n",
    "        T.ToTensor(),  # Convert the image to a tensor\n",
    "        T.Normalize(mean=[0.485, 0.456, 0.406], std=[0.229, 0.224, 0.225]),\n",
    "    ]\n",
    ")\n",
    "\n",
    "# Apply the transformation\n",
    "input_tensor = transform(rgb_image).unsqueeze(0)  # Add a batch dimension\n",
    "\n",
    "# Load a pre-trained DeepLabV3 model\n",
    "model = deeplabv3_resnet101(pretrained=True)\n",
    "model.eval()\n",
    "\n",
    "# Perform the segmentation\n",
    "with torch.no_grad():\n",
    "    output = model(input_tensor)[\"out\"][0]\n",
    "output_predictions = output.argmax(0)\n"
   ]
  },
  {
   "cell_type": "code",
   "execution_count": null,
   "metadata": {},
   "outputs": [],
   "source": [
    "# Apply this mask to your RGB and depth images\n",
    "\n",
    "# Assume 'tomato_plant_mask' is a binary mask with 1s for the plant and 0s for the background\n",
    "# And 'rgb_image' and 'depth_image' are numpy arrays with your RGB and depth data respectively\n",
    "\n",
    "# For the RGB image, we need to make sure the mask is 3D to match the image's channels\n",
    "rgb_mask_3d = np.repeat(tomato_plant_mask[:, :, np.newaxis], 3, axis=2)\n",
    "\n",
    "# Apply the mask to the RGB image\n",
    "segmented_rgb_image = np.where(rgb_mask_3d, rgb_image, 0)  # Replace 0 with desired background value\n",
    "\n",
    "# Apply the mask to the depth image (assuming it's a single channel)\n",
    "segmented_depth_image = np.where(tomato_plant_mask, depth_image, 0)  # Replace 0 with desired background depth value"
   ]
  }
 ],
 "metadata": {
  "kernelspec": {
   "display_name": "agc",
   "language": "python",
   "name": "python3"
  },
  "language_info": {
   "codemirror_mode": {
    "name": "ipython",
    "version": 3
   },
   "file_extension": ".py",
   "mimetype": "text/x-python",
   "name": "python",
   "nbconvert_exporter": "python",
   "pygments_lexer": "ipython3",
   "version": "3.10.14"
  }
 },
 "nbformat": 4,
 "nbformat_minor": 2
}
