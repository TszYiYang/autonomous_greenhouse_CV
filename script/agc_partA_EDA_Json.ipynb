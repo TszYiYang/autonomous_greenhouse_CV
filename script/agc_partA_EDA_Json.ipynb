{
 "cells": [
  {
   "cell_type": "code",
   "execution_count": 1,
   "metadata": {},
   "outputs": [],
   "source": [
    "import pandas as pd\n",
    "import numpy as np"
   ]
  },
  {
   "cell_type": "code",
   "execution_count": 2,
   "metadata": {},
   "outputs": [],
   "source": [
    "# Load data\n",
    "data_path = \"/home/yangze2065/Documents/autonomous_greenhouse_challenge_2024/dataset/4th_dwarf_tomato/image/train/ground_truth_train.json\"  # Update path accordingly\n",
    "data = pd.read_json(data_path)"
   ]
  },
  {
   "cell_type": "code",
   "execution_count": 5,
   "metadata": {},
   "outputs": [
    {
     "data": {
      "text/plain": [
       "(4, 268)"
      ]
     },
     "execution_count": 5,
     "metadata": {},
     "output_type": "execute_result"
    }
   ],
   "source": [
    "data.shape"
   ]
  },
  {
   "cell_type": "code",
   "execution_count": 13,
   "metadata": {},
   "outputs": [
    {
     "data": {
      "text/plain": [
       "Index(['C_80e1bb42', 'B_a2fe2d00'], dtype='object')"
      ]
     },
     "execution_count": 13,
     "metadata": {},
     "output_type": "execute_result"
    }
   ],
   "source": [
    "# check for missing values \n",
    "data.isnull().sum()\n",
    "\n",
    "# find which columns have missing values\n",
    "data.columns[data.isnull().any()]"
   ]
  },
  {
   "cell_type": "code",
   "execution_count": 15,
   "metadata": {},
   "outputs": [
    {
     "name": "stdout",
     "output_type": "stream",
     "text": [
      "Index(['C_80e1bb42', 'B_a2fe2d00'], dtype='object')\n",
      "2\n"
     ]
    }
   ],
   "source": [
    "# Display columns with NaN or Inf values\n",
    "print(data.columns[data.isin([np.nan, np.inf, -np.inf]).any()])\n",
    "\n",
    "# Display the number of data points with NaN or Inf values\n",
    "print(data.isin([np.nan, np.inf, -np.inf]).sum().sum())"
   ]
  },
  {
   "cell_type": "code",
   "execution_count": null,
   "metadata": {},
   "outputs": [],
   "source": [
    "# Display rows with NaN or Inf values\n",
    "print(data[data.isin([np.nan, np.inf, -np.inf]).any(axis=1)])\n",
    "\n",
    "# Option 1: Remove rows with NaN or Inf values\n",
    "# cleaned_data = data.replace([np.inf, -np.inf], np.nan).dropna()\n",
    "\n",
    "# Option 2: Replace NaN or Inf values with a specified value, e.g., the mean of the column\n",
    "for column in data.columns:\n",
    "    if data[column].dtype == \"float64\":  # Check if the data type of the column is float\n",
    "        data[column].replace([np.inf, -np.inf], np.nan, inplace=True)\n",
    "        data[column].fillna(data[column].mean(), inplace=True)\n",
    "\n",
    "# Convert back to JSON if necessary, or directly use DataFrame in your training loop\n",
    "data.to_json(\"cleaned_ground_truth_data.json\")"
   ]
  }
 ],
 "metadata": {
  "kernelspec": {
   "display_name": "agc",
   "language": "python",
   "name": "python3"
  },
  "language_info": {
   "codemirror_mode": {
    "name": "ipython",
    "version": 3
   },
   "file_extension": ".py",
   "mimetype": "text/x-python",
   "name": "python",
   "nbconvert_exporter": "python",
   "pygments_lexer": "ipython3",
   "version": "3.10.14"
  }
 },
 "nbformat": 4,
 "nbformat_minor": 2
}
